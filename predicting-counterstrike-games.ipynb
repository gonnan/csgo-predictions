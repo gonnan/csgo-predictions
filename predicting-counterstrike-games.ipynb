{
 "cells": [
  {
   "cell_type": "markdown",
   "metadata": {},
   "source": [
    "# Introduction\n",
    "\n",
    "The goal of this project was to produce win probabilities for any two counterstrike teams. The intention was to compare these probabilities with odds being offered by betting sites and place bets if their odds seem favorable when compared to my model. I went into this with a good deal of skepticism over potential profitability, since I was essentially trying to outperform the bookmakers at their own game. But I figured it would be a good exercise in a real world application of machine learning. \n",
    "\n",
    "## Back Story\n",
    "\n",
    "Initially, I only had about 600 games and their details pulled from the API at www.pandascore.co. I first changed the teams into dummy variables, then trained a model on these dummy variables, with game outcomes as labels. I managed to get some results from this, but figured if I could include more comprehensive stats, that would help a lot. So with a bit of feature engineering, I managed to include statistics like win rate, number of wins, and number of losses up until the game played. This worked out better than just the dummy variables. But I started playing with individual features and trying to find the single best predictive statistic to feed a neural network. Not all features are created equally. The best way to build a model is to start with the best individual features. \n",
    "\n",
    "Eventually I scraped the team ratings from www.gosugamers.net and matched this to my game history data. Team ratings are a way of comparing teams in the global league. Teams win points by winning games, and lose points by losing games or being inactive for long enough. The higher the team rating, the better the team. Using team ratings worked out exceptionally well. In fact, suspiciously well... I was worried about how much data leakage was influencing my outcomes. Current ratings were undoubtedly leaking information that hadn't happened yet at the time of the games I was predicting. The dataset I was working with was also quite small, so I was hoping to work with a more extensive set.\n",
    "\n",
    "This led me to scrape data from each team's history on the same site. Each team has a graph showing how their rating has changed over time, and the games that affected the change. So it was a matter of scraping data from as many of these graphs as possible, then matching up said data to the opponent's information for the same game. This dataset is the result of that scraping.\n",
    "\n",
    "I have already cleaned the data and dropped any tie games. It's a very simple dataset, but this is meant to serve as an introduction to analyzing individual features and their predictive power. The end goal would likely be to combine a number of these features to further enhance predictive power. But before throwing all possible features at a model for training, it's good to investigate their individual utility. "
   ]
  },
  {
   "cell_type": "code",
   "execution_count": 1,
   "metadata": {
    "_cell_guid": "79c7e3d0-c299-4dcb-8224-4455121ee9b0",
    "_uuid": "d629ff2d2480ee46fbb7e2d37f6b5fab8052498a"
   },
   "outputs": [],
   "source": [
    "import numpy as np\n",
    "import pandas as pd \n",
    "import matplotlib.pyplot as plt\n",
    "\n",
    "pd.set_option('display.max_rows', 80)\n",
    "pd.set_option('display.max_columns', 80)\n",
    "pd.set_option('display.width', 1000)"
   ]
  },
  {
   "cell_type": "code",
   "execution_count": 2,
   "metadata": {},
   "outputs": [
    {
     "data": {
      "text/plain": [
       "(4789, 7)"
      ]
     },
     "execution_count": 2,
     "metadata": {},
     "output_type": "execute_result"
    }
   ],
   "source": [
    "games = pd.read_csv('../input/csgo-ratings/csgo_games_ratings.csv')\n",
    "\n",
    "# I left the resulting rating changes for each game in the data, but we won't need this.\n",
    "games.drop(['t1_rating_change', 't2_rating_change'], axis=1, inplace=True)\n",
    "games.shape"
   ]
  },
  {
   "cell_type": "code",
   "execution_count": 3,
   "metadata": {},
   "outputs": [
    {
     "data": {
      "text/html": [
       "<div>\n",
       "<style scoped>\n",
       "    .dataframe tbody tr th:only-of-type {\n",
       "        vertical-align: middle;\n",
       "    }\n",
       "\n",
       "    .dataframe tbody tr th {\n",
       "        vertical-align: top;\n",
       "    }\n",
       "\n",
       "    .dataframe thead th {\n",
       "        text-align: right;\n",
       "    }\n",
       "</style>\n",
       "<table border=\"1\" class=\"dataframe\">\n",
       "  <thead>\n",
       "    <tr style=\"text-align: right;\">\n",
       "      <th></th>\n",
       "      <th>date</th>\n",
       "      <th>t1</th>\n",
       "      <th>t2</th>\n",
       "      <th>t1_rating</th>\n",
       "      <th>t2_rating</th>\n",
       "      <th>rating_difference</th>\n",
       "      <th>t1_win</th>\n",
       "    </tr>\n",
       "  </thead>\n",
       "  <tbody>\n",
       "    <tr>\n",
       "      <th>0</th>\n",
       "      <td>2014-04-17 00:00:00+02:00</td>\n",
       "      <td>fm!TOXiC</td>\n",
       "      <td>Expert Gaming</td>\n",
       "      <td>1004.0</td>\n",
       "      <td>1000.0</td>\n",
       "      <td>4.0</td>\n",
       "      <td>1</td>\n",
       "    </tr>\n",
       "    <tr>\n",
       "      <th>1</th>\n",
       "      <td>2014-06-15 20:00:00+02:00</td>\n",
       "      <td>Lemondogs CS</td>\n",
       "      <td>Expert Gaming</td>\n",
       "      <td>1013.0</td>\n",
       "      <td>970.0</td>\n",
       "      <td>43.0</td>\n",
       "      <td>1</td>\n",
       "    </tr>\n",
       "    <tr>\n",
       "      <th>2</th>\n",
       "      <td>2014-06-27 23:30:00+02:00</td>\n",
       "      <td>All-Stars North America</td>\n",
       "      <td>All-Stars Europe</td>\n",
       "      <td>1000.0</td>\n",
       "      <td>1000.0</td>\n",
       "      <td>0.0</td>\n",
       "      <td>1</td>\n",
       "    </tr>\n",
       "    <tr>\n",
       "      <th>3</th>\n",
       "      <td>2014-06-30 19:00:00+02:00</td>\n",
       "      <td>UNNAMED.CS</td>\n",
       "      <td>es4x</td>\n",
       "      <td>1000.0</td>\n",
       "      <td>1000.0</td>\n",
       "      <td>0.0</td>\n",
       "      <td>0</td>\n",
       "    </tr>\n",
       "    <tr>\n",
       "      <th>4</th>\n",
       "      <td>2014-07-05 19:00:00+02:00</td>\n",
       "      <td>UNNAMED.CS</td>\n",
       "      <td>FaithCS</td>\n",
       "      <td>981.0</td>\n",
       "      <td>882.0</td>\n",
       "      <td>99.0</td>\n",
       "      <td>0</td>\n",
       "    </tr>\n",
       "    <tr>\n",
       "      <th>5</th>\n",
       "      <td>2014-07-18 10:00:00+02:00</td>\n",
       "      <td>Outbreak</td>\n",
       "      <td>webSPELL</td>\n",
       "      <td>1000.0</td>\n",
       "      <td>1000.0</td>\n",
       "      <td>0.0</td>\n",
       "      <td>0</td>\n",
       "    </tr>\n",
       "    <tr>\n",
       "      <th>6</th>\n",
       "      <td>2014-07-18 14:00:00+02:00</td>\n",
       "      <td>Outbreak</td>\n",
       "      <td>Geduld</td>\n",
       "      <td>980.0</td>\n",
       "      <td>989.0</td>\n",
       "      <td>-9.0</td>\n",
       "      <td>1</td>\n",
       "    </tr>\n",
       "    <tr>\n",
       "      <th>7</th>\n",
       "      <td>2014-07-18 14:00:00+02:00</td>\n",
       "      <td>HybriD</td>\n",
       "      <td>Anima</td>\n",
       "      <td>980.0</td>\n",
       "      <td>991.0</td>\n",
       "      <td>-11.0</td>\n",
       "      <td>1</td>\n",
       "    </tr>\n",
       "    <tr>\n",
       "      <th>8</th>\n",
       "      <td>2014-07-18 16:00:00+02:00</td>\n",
       "      <td>Outbreak</td>\n",
       "      <td>webSPELL</td>\n",
       "      <td>1001.0</td>\n",
       "      <td>1009.0</td>\n",
       "      <td>-8.0</td>\n",
       "      <td>1</td>\n",
       "    </tr>\n",
       "    <tr>\n",
       "      <th>9</th>\n",
       "      <td>2014-07-27 14:00:00+02:00</td>\n",
       "      <td>SVETTiGA</td>\n",
       "      <td>Rasta.B2G</td>\n",
       "      <td>1000.0</td>\n",
       "      <td>999.0</td>\n",
       "      <td>1.0</td>\n",
       "      <td>1</td>\n",
       "    </tr>\n",
       "  </tbody>\n",
       "</table>\n",
       "</div>"
      ],
      "text/plain": [
       "                        date                       t1                t2  t1_rating  t2_rating  rating_difference  t1_win\n",
       "0  2014-04-17 00:00:00+02:00                 fm!TOXiC     Expert Gaming     1004.0     1000.0                4.0       1\n",
       "1  2014-06-15 20:00:00+02:00             Lemondogs CS     Expert Gaming     1013.0      970.0               43.0       1\n",
       "2  2014-06-27 23:30:00+02:00  All-Stars North America  All-Stars Europe     1000.0     1000.0                0.0       1\n",
       "3  2014-06-30 19:00:00+02:00               UNNAMED.CS              es4x     1000.0     1000.0                0.0       0\n",
       "4  2014-07-05 19:00:00+02:00               UNNAMED.CS           FaithCS      981.0      882.0               99.0       0\n",
       "5  2014-07-18 10:00:00+02:00                 Outbreak          webSPELL     1000.0     1000.0                0.0       0\n",
       "6  2014-07-18 14:00:00+02:00                 Outbreak            Geduld      980.0      989.0               -9.0       1\n",
       "7  2014-07-18 14:00:00+02:00                   HybriD             Anima      980.0      991.0              -11.0       1\n",
       "8  2014-07-18 16:00:00+02:00                 Outbreak          webSPELL     1001.0     1009.0               -8.0       1\n",
       "9  2014-07-27 14:00:00+02:00                 SVETTiGA         Rasta.B2G     1000.0      999.0                1.0       1"
      ]
     },
     "execution_count": 3,
     "metadata": {},
     "output_type": "execute_result"
    }
   ],
   "source": [
    "games.head(10)"
   ]
  },
  {
   "cell_type": "markdown",
   "metadata": {},
   "source": [
    "## Initial Hiccups\n",
    "\n",
    "I started by feeding a deep neural network t1_rating and t2_rating. But the network was picking up on nuance in the data that it shouldn't have. Certain matchups of ratings had very small sample sizes. For example, the network was learning that a matchup of 923 vs 1124 was actually favorable for the 923 rating, since there was only one game of that matchup, and 923 had won.\n",
    "\n",
    "To remedy this problem, I simplified the input data by reducing t1_rating and t2_rating into one statistic called rating_difference. I speculated that this would capture the important relationship between the two, while forcing our model to stop picking up on patterns between t1_rating and t2_rating that shouldn't be significant.\n",
    "\n",
    "I assumed the network wouldn't need a lot of neuron's to capture what I imagined as a linear relationship. So I stripped the network down to just one neuron. Since this isn't exactly harnessing the amazing powers of neural networks, I've decided to back up a step and see how some regular machine learning models compare to the ultimately shallow neural network.\n",
    "\n",
    "## Balancing The Data\n",
    "\n",
    "Before we get started, we should do a little exploration of the data, and apply some preprocessing. For instance, if there are more t1 wins than losses, we'll want to balance the data so our model isn't influenced by the imbalance.\n"
   ]
  },
  {
   "cell_type": "code",
   "execution_count": 4,
   "metadata": {},
   "outputs": [
    {
     "name": "stdout",
     "output_type": "stream",
     "text": [
      "Number of t1 wins:  2372\n",
      "Number of t2 wins:  2417\n"
     ]
    }
   ],
   "source": [
    "t1_wins = games[games['t1_win'] == 1]\n",
    "t2_wins = games[games['t1_win'] == 0]\n",
    "\n",
    "print('Number of t1 wins: ', len(t1_wins))\n",
    "print('Number of t2 wins: ', len(t2_wins))"
   ]
  },
  {
   "cell_type": "markdown",
   "metadata": {},
   "source": [
    "While this isn't a huge imbalance, it would likely bias the model somewhat into assuming t2 wins more than t1."
   ]
  },
  {
   "cell_type": "code",
   "execution_count": 5,
   "metadata": {},
   "outputs": [],
   "source": [
    "def equalize_wins(games):\n",
    "    t1_wins = games[games['t1_win'] == 1]\n",
    "    t2_wins = games[games['t1_win'] == 0]\n",
    "\n",
    "    min_wins = min(len(t1_wins), len(t2_wins))\n",
    "    max_wins = max(len(t1_wins), len(t2_wins))\n",
    "\n",
    "    if len(t2_wins) < len(t1_wins):\n",
    "        reduced_t1_wins = t1_wins.sample(frac=(min_wins / max_wins), random_state=1)\n",
    "        games = pd.concat([reduced_t1_wins, t2_wins], axis=0)\n",
    "    else:\n",
    "        reduced_t2_wins = t2_wins.sample(frac=(min_wins / max_wins), random_state=1)\n",
    "        games = pd.concat([reduced_t2_wins, t1_wins], axis=0)\n",
    "\n",
    "    return games.sample(frac=1, random_state=1)\n",
    "    \n",
    "games = equalize_wins(games)"
   ]
  },
  {
   "cell_type": "code",
   "execution_count": 6,
   "metadata": {},
   "outputs": [
    {
     "data": {
      "image/png": "[encoded data removed]",
      "text/plain": [
       "<Figure size 1008x504 with 2 Axes>"
      ]
     },
     "metadata": {
      "needs_background": "light"
     },
     "output_type": "display_data"
    }
   ],
   "source": [
    "fig, (ax1, ax2) = plt.subplots(1, 2, figsize=(14, 7))\n",
    "\n",
    "ax1.hist(games['rating_difference'], bins=300)\n",
    "ax1.set_ylabel('Number of Games', {'fontsize': 12})\n",
    "ax1.set_xlabel('Rating Difference', {'fontsize': 12})\n",
    "ax1.set_title('All Games', {'fontsize': 16})\n",
    "\n",
    "non_zero = games[games['rating_difference'] != 0]\n",
    "\n",
    "ax2.hist(non_zero['rating_difference'], bins=300)\n",
    "ax2.set_ylabel('Number of Games', {'fontsize': 12})\n",
    "ax2.set_xlabel('Rating Difference', {'fontsize': 12})\n",
    "ax2.set_title('Games With Non-Zero Rating Difference', {'fontsize': 16})\n",
    "plt.show()"
   ]
  },
  {
   "cell_type": "markdown",
   "metadata": {},
   "source": [
    "The distribution of rating_difference seems to be reasonably normal. But we will still normalize our data before feeding it into a network. This should reduce overfitting on the somewhat noisy training set. We may however want to consider dropping games with no rating difference to see how that affects our results."
   ]
  },
  {
   "cell_type": "code",
   "execution_count": 7,
   "metadata": {},
   "outputs": [
    {
     "name": "stdout",
     "output_type": "stream",
     "text": [
      "Win rate for zero difference games: 0.497\n"
     ]
    }
   ],
   "source": [
    "zero_games = games[games['rating_difference'] == 0]\n",
    "print('Win rate for zero difference games:', \n",
    "      round((zero_games['t1_win'].sum() / len(zero_games)), 4))"
   ]
  },
  {
   "cell_type": "markdown",
   "metadata": {},
   "source": [
    "While this isn't the biggest imbalance, including the zero difference games could adversely affect our training, especially since there are so many games with no rating difference. We'll keep this in mind as we explore the expected win rates."
   ]
  },
  {
   "cell_type": "markdown",
   "metadata": {},
   "source": [
    "## Expected Win Rates\n",
    "\n",
    "I expect t1 to win more often than not if t1_rating > t2_rating. But the question is how often? We can get a brief understanding of what kind of model accuracies to expect by looking at the data."
   ]
  },
  {
   "cell_type": "code",
   "execution_count": 8,
   "metadata": {},
   "outputs": [
    {
     "name": "stdout",
     "output_type": "stream",
     "text": [
      "Win rate for all games: 0.5454\n",
      "Win rate for non-zero rating_difference games: 0.5653\n"
     ]
    }
   ],
   "source": [
    "def win_rates(history):\n",
    "    t1_better_t2 = history[history['rating_difference'] >= 0]\n",
    "    t1_better_percentage = t1_better_t2['t1_win'].sum() / len(t1_better_t2)\n",
    "\n",
    "    return round(t1_better_percentage, 4)\n",
    "\n",
    "non_zero_games = games[games['rating_difference'] != 0].copy()\n",
    "print('Win rate for all games:', win_rates(games))\n",
    "print('Win rate for non-zero rating_difference games:', win_rates(non_zero_games))"
   ]
  },
  {
   "cell_type": "markdown",
   "metadata": {},
   "source": [
    "As expected, the win rate increases if we remove zero difference games from consideration. But even in this case, t1 wins only 56.5% of the time when their rating is better than t2, and conversely loses about 43.5% of the time if their rating is worse than t2. This is far from amazing predictive power. But we would expect that win rate to go up in relation to the difference in rank. "
   ]
  },
  {
   "cell_type": "code",
   "execution_count": 9,
   "metadata": {},
   "outputs": [],
   "source": [
    "# Returns a dataframe containing the win rates for games with a greater absolute rating_difference than i, along with the number of games in the sample\n",
    "def win_rate(games):\n",
    "    rating_win_rate = []\n",
    "    games['rating_difference'] = games['rating_difference'].astype(int)\n",
    "    for i in range(0, games['rating_difference'].abs().max()):\n",
    "        t1_better_t2 = games[games['rating_difference'] > i]\n",
    "        t1_worse_t2 = games[games['rating_difference'] < -i]\n",
    "\n",
    "        # We are interested in the t1_worse_t2 games where t1_win is 0, this is captured below.\n",
    "        wins = t1_better_t2['t1_win'].sum() + (len(t1_worse_t2) - t1_worse_t2['t1_win'].sum())\n",
    "        num_games = len(t1_better_t2) + len(t1_worse_t2)\n",
    "        win_rate = wins / num_games\n",
    "\n",
    "        rating_win_rate.append({'rating_difference': i, \n",
    "                                'win_rate': win_rate, \n",
    "                                'num_games': num_games})\n",
    "\n",
    "    return pd.DataFrame(rating_win_rate)"
   ]
  },
  {
   "cell_type": "code",
   "execution_count": 10,
   "metadata": {},
   "outputs": [],
   "source": [
    "def plot_win_rating(games):\n",
    "    fig, ax1 = plt.subplots(figsize=(7, 7))\n",
    "    ax1.set_title('Win Rate vs Rating Difference', {'fontsize': 16})\n",
    "\n",
    "    ax1.bar(x=games['rating_difference'], \n",
    "            height=games['num_games'], \n",
    "            width=2,\n",
    "            alpha=0.4)\n",
    "    ax1.set_xlabel('Rating difference', {'fontsize': 12})\n",
    "    ax1.set_ylabel('Number of Games', {'fontsize': 12})\n",
    "\n",
    "    ax2 = fig.add_subplot(sharex=ax1, frameon=False)\n",
    "    ax2.plot(games['win_rate'], color='r')\n",
    "    ax2.yaxis.tick_right()\n",
    "    ax2.yaxis.set_label_position('right')\n",
    "    ax2.set_ylabel('Win Rate', {'fontsize': 12})\n",
    "\n",
    "    plt.show()"
   ]
  },
  {
   "cell_type": "code",
   "execution_count": 11,
   "metadata": {},
   "outputs": [
    {
     "data": {
      "image/png": "[encoded data removed]",
      "text/plain": [
       "<Figure size 504x504 with 2 Axes>"
      ]
     },
     "metadata": {
      "needs_background": "light"
     },
     "output_type": "display_data"
    }
   ],
   "source": [
    "rating_win_rate = win_rate(games)\n",
    "plot_win_rating(rating_win_rate)"
   ]
  },
  {
   "cell_type": "markdown",
   "metadata": {},
   "source": [
    "This graph shows how often t1 or t2 wins if their rating difference is greater than x. We can see that initially, the win rate increases linearly in relation to the difference in rating. But this relationship deteriorates as the sample of games decreases. It may be worth playing around with the dataset and dropping games with a rating difference too large to have a significant sample size. "
   ]
  },
  {
   "cell_type": "markdown",
   "metadata": {},
   "source": [
    "# Applying Machine Learning"
   ]
  },
  {
   "cell_type": "code",
   "execution_count": 12,
   "metadata": {},
   "outputs": [],
   "source": [
    "from sklearn.tree import DecisionTreeClassifier\n",
    "from sklearn.neighbors import KNeighborsClassifier\n",
    "from sklearn.ensemble import RandomForestClassifier\n",
    "from sklearn.svm import SVC\n",
    "from sklearn.linear_model import SGDClassifier\n",
    "from sklearn.model_selection import train_test_split\n",
    "from sklearn.model_selection import GridSearchCV\n",
    "from sklearn.preprocessing import scale\n",
    "\n",
    "from scipy import stats\n",
    "\n",
    "import tensorflow as tf\n",
    "from tensorflow import keras\n",
    "\n",
    "results = []"
   ]
  },
  {
   "cell_type": "markdown",
   "metadata": {},
   "source": [
    "## Decision Tree Classifier"
   ]
  },
  {
   "cell_type": "code",
   "execution_count": 13,
   "metadata": {},
   "outputs": [
    {
     "name": "stdout",
     "output_type": "stream",
     "text": [
      "With zero rating difference \n",
      "Best accuracy:  0.5502 \n",
      "Best parameters:  {'max_depth': 2, 'max_leaf_nodes': 5, 'min_samples_leaf': 1, 'min_samples_split': 2}\n",
      "\n",
      "Without zero rating difference \n",
      "Best accuracy:  0.5602 \n",
      "Best parameters:  {'max_depth': 3, 'max_leaf_nodes': 5, 'min_samples_leaf': 1, 'min_samples_split': 2}\n"
     ]
    }
   ],
   "source": [
    "def decision_tree_classifier(games):\n",
    "    x = np.array(games['rating_difference']).reshape(-1, 1)\n",
    "    y = games['t1_win']\n",
    "\n",
    "    x = scale(x)\n",
    "\n",
    "    hyperparameters = {\n",
    "        'max_depth': [2, 3, 4, 5],\n",
    "        'min_samples_split': [2, 3, 4, 5],\n",
    "        'min_samples_leaf': [1, 2, 3, 4, 5],\n",
    "        'max_leaf_nodes': [5, 6, 7, 8, 9]\n",
    "\n",
    "    }\n",
    "    dtc = DecisionTreeClassifier()\n",
    "    grid = GridSearchCV(dtc, param_grid=hyperparameters, cv=5)\n",
    "    grid.fit(x, y)\n",
    "\n",
    "    return grid.best_params_, grid.best_score_\n",
    "  \n",
    "include_zero = decision_tree_classifier(games)\n",
    "non_zero = decision_tree_classifier(non_zero_games)\n",
    "print('With zero rating difference \\nBest accuracy: ', round(include_zero[1], 4), \n",
    "      '\\nBest parameters: ', include_zero[0])\n",
    "print('\\nWithout zero rating difference \\nBest accuracy: ', round(non_zero[1], 4), \n",
    "      '\\nBest parameters: ', non_zero[0])\n",
    "\n",
    "results.append({'model': 'Decision Tree', \n",
    "                'non_zero': round(non_zero[1], 4), \n",
    "                'include_zero': round(include_zero[1], 4)}\n",
    "              )"
   ]
  },
  {
   "cell_type": "markdown",
   "metadata": {},
   "source": [
    "As we expected, excluding games with zero rating difference does increase the accuracy of our model. \n",
    "\n",
    "Even just using a decision tree classifier, we're able to get very close to the accuracy we expected from earlier (56.02% vs 56.53%). \n",
    "\n",
    "More surprisingly, the model we ran including games with zero rating difference actually performed marginally better than the win rate we saw earlier (55.02% vs 54.54%)."
   ]
  },
  {
   "cell_type": "markdown",
   "metadata": {},
   "source": [
    "## K Nearest Neighbors"
   ]
  },
  {
   "cell_type": "code",
   "execution_count": 14,
   "metadata": {},
   "outputs": [
    {
     "name": "stdout",
     "output_type": "stream",
     "text": [
      "With zero rating difference \n",
      "Best accuracy:  0.5464 \n",
      "Best parameters:  {'algorithm': 'brute', 'n_neighbors': 70, 'p': 2, 'weights': 'uniform'}\n",
      "\n",
      "Without zero rating difference \n",
      "Best accuracy:  0.5553 \n",
      "Best parameters:  {'algorithm': 'brute', 'n_neighbors': 50, 'p': 2, 'weights': 'uniform'}\n"
     ]
    }
   ],
   "source": [
    "def k_nearest_neighbors(games):    \n",
    "    x = np.array(games['rating_difference']).reshape(-1, 1)\n",
    "    y = games['t1_win']\n",
    "\n",
    "    x = scale(x)\n",
    "\n",
    "    hyperparameters = {\n",
    "        'n_neighbors': [10, 20, 30, 40, 50, 60, 70],\n",
    "        'weights': ['uniform', 'distance'],\n",
    "        'algorithm': ['brute', 'auto'],\n",
    "        'p': [1, 2]\n",
    "\n",
    "    }\n",
    "    knc = KNeighborsClassifier()\n",
    "    grid = GridSearchCV(knc, param_grid=hyperparameters, cv=5)\n",
    "    grid.fit(x, y)\n",
    "\n",
    "    return grid.best_params_, grid.best_score_\n",
    "    \n",
    "include_zero = k_nearest_neighbors(games)\n",
    "non_zero = k_nearest_neighbors(non_zero_games)\n",
    "print('With zero rating difference \\nBest accuracy: ', round(include_zero[1], 4), \n",
    "      '\\nBest parameters: ', include_zero[0])\n",
    "print('\\nWithout zero rating difference \\nBest accuracy: ', round(non_zero[1], 4), \n",
    "      '\\nBest parameters: ', non_zero[0])\n",
    "\n",
    "results.append({'model': 'K Neighbors', \n",
    "                'non_zero': round(non_zero[1], 4), \n",
    "                'include_zero': round(include_zero[1], 4)}\n",
    "              )"
   ]
  },
  {
   "cell_type": "markdown",
   "metadata": {},
   "source": [
    "Not quite as good as the decision tree classifier. "
   ]
  },
  {
   "cell_type": "markdown",
   "metadata": {},
   "source": [
    "## Random Forest Classifier"
   ]
  },
  {
   "cell_type": "code",
   "execution_count": 15,
   "metadata": {},
   "outputs": [
    {
     "name": "stdout",
     "output_type": "stream",
     "text": [
      "With zero rating difference \n",
      "Best accuracy:  0.5561 \n",
      "Best parameters:  {'max_depth': 4, 'max_leaf_nodes': 20, 'min_samples_split': 5, 'n_estimators': 10, 'random_state': 1}\n",
      "\n",
      "Without zero rating difference \n",
      "Best accuracy:  0.5686 \n",
      "Best parameters:  {'max_depth': 4, 'max_leaf_nodes': 20, 'min_samples_split': 20, 'n_estimators': 10, 'random_state': 1}\n"
     ]
    }
   ],
   "source": [
    "def random_forest_classifier(games):    \n",
    "    x = np.array(games['rating_difference']).reshape(-1, 1)\n",
    "    y = games['t1_win']\n",
    "\n",
    "    x = scale(x)\n",
    "\n",
    "    hyperparameters = {\n",
    "        'n_estimators': [10, 15, 20, 25],\n",
    "        'max_depth': [2, 3, 4],\n",
    "        'min_samples_split': [5, 10, 15, 20],\n",
    "        'max_leaf_nodes': [20, 25, 30, 35],\n",
    "        'random_state': [1]\n",
    "\n",
    "    }\n",
    "    rfc = RandomForestClassifier()\n",
    "    grid = GridSearchCV(rfc, param_grid=hyperparameters, cv=5)\n",
    "    grid.fit(x, y)\n",
    "\n",
    "    return grid.best_params_, grid.best_score_\n",
    "    \n",
    "include_zero = random_forest_classifier(games)\n",
    "non_zero = random_forest_classifier(non_zero_games)\n",
    "print('With zero rating difference \\nBest accuracy: ', round(include_zero[1], 4), \n",
    "      '\\nBest parameters: ', include_zero[0])\n",
    "print('\\nWithout zero rating difference \\nBest accuracy: ', round(non_zero[1], 4), \n",
    "      '\\nBest parameters: ', non_zero[0])\n",
    "\n",
    "results.append({'model': 'Random Forest', \n",
    "                'non_zero': round(non_zero[1], 4), \n",
    "                'include_zero': round(include_zero[1], 4)}\n",
    "              )"
   ]
  },
  {
   "cell_type": "markdown",
   "metadata": {},
   "source": [
    "We have a new winner! 56.86%!"
   ]
  },
  {
   "cell_type": "markdown",
   "metadata": {},
   "source": [
    "## C-Support Vector Classification"
   ]
  },
  {
   "cell_type": "code",
   "execution_count": 16,
   "metadata": {},
   "outputs": [
    {
     "name": "stdout",
     "output_type": "stream",
     "text": [
      "With zero rating difference \n",
      "Best accuracy:  0.5506\n",
      "\n",
      "Without zero rating difference \n",
      "Best accuracy:  0.5597\n"
     ]
    }
   ],
   "source": [
    "def cvc(games):\n",
    "    x = np.array(games['rating_difference']).reshape(-1, 1)\n",
    "    y = games['t1_win']\n",
    "\n",
    "    x = scale(x)\n",
    "\n",
    "    hyperparameters = {}\n",
    "\n",
    "    svc = SVC()\n",
    "    grid = GridSearchCV(svc, param_grid=hyperparameters, cv=10)\n",
    "    grid.fit(x, y)\n",
    "\n",
    "    return grid.best_params_, grid.best_score_\n",
    "    \n",
    "include_zero = cvc(games)\n",
    "non_zero = cvc(non_zero_games)\n",
    "print('With zero rating difference \\nBest accuracy: ', round(include_zero[1], 4))\n",
    "print('\\nWithout zero rating difference \\nBest accuracy: ', round(non_zero[1], 4))\n",
    "\n",
    "results.append({'model': 'CVC', \n",
    "                'non_zero': round(non_zero[1], 4), \n",
    "                'include_zero': round(include_zero[1], 4)}\n",
    "              )"
   ]
  },
  {
   "cell_type": "markdown",
   "metadata": {},
   "source": [
    "Nothing to write home about here."
   ]
  },
  {
   "cell_type": "markdown",
   "metadata": {},
   "source": [
    "## Stochastic Gradient Descent"
   ]
  },
  {
   "cell_type": "code",
   "execution_count": 17,
   "metadata": {},
   "outputs": [
    {
     "name": "stdout",
     "output_type": "stream",
     "text": [
      "With zero rating difference \n",
      "Best accuracy:  0.5474 \n",
      "Best parameters:  {'loss': 'log', 'max_iter': 10000, 'shuffle': False}\n",
      "\n",
      "Without zero rating difference \n",
      "Best accuracy:  0.5604 \n",
      "Best parameters:  {'loss': 'hinge', 'max_iter': 10000, 'shuffle': False}\n"
     ]
    }
   ],
   "source": [
    "def sgd(games):\n",
    "    x = np.array(games['rating_difference']).reshape(-1, 1)\n",
    "    y = games['t1_win']\n",
    "\n",
    "    x = scale(x)\n",
    "\n",
    "    hyperparameters = {\n",
    "        'loss': ['log', 'hinge', 'squared_loss'],\n",
    "        'max_iter': [10000],\n",
    "        'shuffle': [False]\n",
    "    }\n",
    "    sgdc = SGDClassifier()\n",
    "    grid = GridSearchCV(sgdc, param_grid=hyperparameters, cv=10)\n",
    "    grid.fit(x, y)\n",
    "\n",
    "    return grid.best_params_, grid.best_score_\n",
    "    \n",
    "include_zero = sgd(games)\n",
    "non_zero = sgd(non_zero_games)\n",
    "\n",
    "print('With zero rating difference \\nBest accuracy: ', round(include_zero[1], 4), \n",
    "      '\\nBest parameters: ', include_zero[0])\n",
    "print('\\nWithout zero rating difference \\nBest accuracy: ', round(non_zero[1], 4), \n",
    "      '\\nBest parameters: ', non_zero[0])\n",
    "\n",
    "results.append({'model': 'SGD', \n",
    "                'non_zero': round(non_zero[1], 4), \n",
    "                'include_zero': round(include_zero[1], 4)}\n",
    "              )"
   ]
  },
  {
   "cell_type": "markdown",
   "metadata": {},
   "source": [
    "Not bad, but not great!"
   ]
  },
  {
   "cell_type": "markdown",
   "metadata": {},
   "source": [
    "## Results of Regular Machine Learning"
   ]
  },
  {
   "cell_type": "code",
   "execution_count": 18,
   "metadata": {},
   "outputs": [
    {
     "data": {
      "image/png": "[encoded data removed]",
      "text/plain": [
       "<Figure size 504x504 with 1 Axes>"
      ]
     },
     "metadata": {
      "needs_background": "light"
     },
     "output_type": "display_data"
    }
   ],
   "source": [
    "results_df = pd.DataFrame(results)\n",
    "\n",
    "fig, ax = plt.subplots(figsize=(7, 7))\n",
    "\n",
    "ax.bar(x=results_df['model'], \n",
    "       height=results_df['non_zero'], \n",
    "       label='Excluding Zero Difference')\n",
    "ax.bar(x=results_df['model'], \n",
    "       height=results_df['include_zero'], \n",
    "       label='Including Zero Difference')\n",
    "\n",
    "ax.set_ylim(bottom=0.5)\n",
    "ax.set_title('Accuracy of Models', {'fontsize':16})\n",
    "ax.set_ylabel('Accuracy', {'fontsize':12})\n",
    "ax.set_xlabel('Model', {'fontsize':12})\n",
    "ax.legend(loc='upper right')\n",
    "\n",
    "plt.show()"
   ]
  },
  {
   "cell_type": "markdown",
   "metadata": {},
   "source": [
    "As far as regular machine learning goes, the random forest classifier produced the best results with an accuracy of 56.86%."
   ]
  },
  {
   "cell_type": "markdown",
   "metadata": {},
   "source": [
    "## \"Neural Network\"\n",
    "\n",
    "Now for the big guns! The world's smallest neural network!"
   ]
  },
  {
   "cell_type": "code",
   "execution_count": 19,
   "metadata": {},
   "outputs": [
    {
     "name": "stdout",
     "output_type": "stream",
     "text": [
      "Train on 3130 samples, validate on 783 samples\n",
      "Epoch 1/100\n",
      "3130/3130 - 1s - loss: 0.7381 - accuracy: 0.4329 - val_loss: 0.7233 - val_accuracy: 0.4278\n",
      "Epoch 2/100\n",
      "3130/3130 - 0s - loss: 0.7154 - accuracy: 0.4342 - val_loss: 0.7060 - val_accuracy: 0.4317\n",
      "Epoch 3/100\n",
      "3130/3130 - 0s - loss: 0.7006 - accuracy: 0.4435 - val_loss: 0.6954 - val_accuracy: 0.4559\n",
      "Epoch 4/100\n",
      "3130/3130 - 0s - loss: 0.6918 - accuracy: 0.5153 - val_loss: 0.6892 - val_accuracy: 0.5517\n",
      "Epoch 5/100\n",
      "3130/3130 - 0s - loss: 0.6868 - accuracy: 0.5502 - val_loss: 0.6865 - val_accuracy: 0.5517\n",
      "Epoch 6/100\n",
      "3130/3130 - 0s - loss: 0.6839 - accuracy: 0.5585 - val_loss: 0.6850 - val_accuracy: 0.5568\n",
      "Epoch 7/100\n",
      "3130/3130 - 0s - loss: 0.6824 - accuracy: 0.5607 - val_loss: 0.6845 - val_accuracy: 0.5568\n",
      "Epoch 8/100\n",
      "3130/3130 - 0s - loss: 0.6817 - accuracy: 0.5620 - val_loss: 0.6842 - val_accuracy: 0.5670\n",
      "Epoch 9/100\n",
      "3130/3130 - 0s - loss: 0.6813 - accuracy: 0.5607 - val_loss: 0.6842 - val_accuracy: 0.5670\n",
      "Epoch 10/100\n",
      "3130/3130 - 0s - loss: 0.6811 - accuracy: 0.5655 - val_loss: 0.6842 - val_accuracy: 0.5670\n",
      "Epoch 11/100\n",
      "3130/3130 - 0s - loss: 0.6811 - accuracy: 0.5626 - val_loss: 0.6844 - val_accuracy: 0.5670\n",
      "Epoch 12/100\n",
      "3130/3130 - 0s - loss: 0.6810 - accuracy: 0.5633 - val_loss: 0.6844 - val_accuracy: 0.5670\n",
      "Epoch 13/100\n",
      "3130/3130 - 0s - loss: 0.6810 - accuracy: 0.5604 - val_loss: 0.6845 - val_accuracy: 0.5670\n",
      "Epoch 14/100\n",
      "3130/3130 - 0s - loss: 0.6810 - accuracy: 0.5623 - val_loss: 0.6844 - val_accuracy: 0.5670\n",
      "Epoch 15/100\n",
      "3130/3130 - 0s - loss: 0.6810 - accuracy: 0.5633 - val_loss: 0.6845 - val_accuracy: 0.5670\n",
      "Epoch 16/100\n",
      "3130/3130 - 0s - loss: 0.6810 - accuracy: 0.5588 - val_loss: 0.6844 - val_accuracy: 0.5670\n",
      "Epoch 17/100\n",
      "3130/3130 - 0s - loss: 0.6810 - accuracy: 0.5620 - val_loss: 0.6844 - val_accuracy: 0.5734\n",
      "Epoch 18/100\n",
      "3130/3130 - 0s - loss: 0.6810 - accuracy: 0.5620 - val_loss: 0.6846 - val_accuracy: 0.5670\n",
      "Epoch 19/100\n",
      "3130/3130 - 0s - loss: 0.6810 - accuracy: 0.5626 - val_loss: 0.6845 - val_accuracy: 0.5670\n",
      "Epoch 20/100\n",
      "3130/3130 - 0s - loss: 0.6810 - accuracy: 0.5623 - val_loss: 0.6846 - val_accuracy: 0.5568\n",
      "Epoch 21/100\n",
      "3130/3130 - 0s - loss: 0.6810 - accuracy: 0.5636 - val_loss: 0.6845 - val_accuracy: 0.5670\n",
      "Epoch 22/100\n",
      "3130/3130 - 0s - loss: 0.6810 - accuracy: 0.5610 - val_loss: 0.6846 - val_accuracy: 0.5568\n",
      "Epoch 23/100\n",
      "3130/3130 - 0s - loss: 0.6810 - accuracy: 0.5610 - val_loss: 0.6845 - val_accuracy: 0.5670\n",
      "Epoch 24/100\n",
      "3130/3130 - 0s - loss: 0.6810 - accuracy: 0.5623 - val_loss: 0.6844 - val_accuracy: 0.5734\n",
      "Epoch 25/100\n",
      "3130/3130 - 0s - loss: 0.6810 - accuracy: 0.5626 - val_loss: 0.6846 - val_accuracy: 0.5670\n",
      "Epoch 26/100\n",
      "3130/3130 - 0s - loss: 0.6811 - accuracy: 0.5649 - val_loss: 0.6846 - val_accuracy: 0.5670\n",
      "Epoch 27/100\n",
      "3130/3130 - 0s - loss: 0.6810 - accuracy: 0.5658 - val_loss: 0.6845 - val_accuracy: 0.5670\n",
      "Epoch 28/100\n",
      "3130/3130 - 0s - loss: 0.6811 - accuracy: 0.5610 - val_loss: 0.6845 - val_accuracy: 0.5670\n",
      "Epoch 29/100\n",
      "3130/3130 - 0s - loss: 0.6810 - accuracy: 0.5591 - val_loss: 0.6845 - val_accuracy: 0.5670\n",
      "Epoch 30/100\n",
      "3130/3130 - 0s - loss: 0.6810 - accuracy: 0.5594 - val_loss: 0.6845 - val_accuracy: 0.5670\n",
      "Epoch 31/100\n",
      "3130/3130 - 0s - loss: 0.6810 - accuracy: 0.5594 - val_loss: 0.6845 - val_accuracy: 0.5670\n",
      "Epoch 32/100\n",
      "3130/3130 - 0s - loss: 0.6810 - accuracy: 0.5623 - val_loss: 0.6846 - val_accuracy: 0.5670\n",
      "Epoch 33/100\n",
      "3130/3130 - 0s - loss: 0.6811 - accuracy: 0.5617 - val_loss: 0.6844 - val_accuracy: 0.5734\n",
      "Epoch 34/100\n",
      "3130/3130 - 0s - loss: 0.6811 - accuracy: 0.5642 - val_loss: 0.6846 - val_accuracy: 0.5568\n",
      "Epoch 35/100\n",
      "3130/3130 - 0s - loss: 0.6810 - accuracy: 0.5636 - val_loss: 0.6847 - val_accuracy: 0.5568\n",
      "Epoch 36/100\n",
      "3130/3130 - 0s - loss: 0.6811 - accuracy: 0.5604 - val_loss: 0.6848 - val_accuracy: 0.5568\n",
      "Epoch 37/100\n",
      "3130/3130 - 0s - loss: 0.6810 - accuracy: 0.5626 - val_loss: 0.6848 - val_accuracy: 0.5568\n",
      "Epoch 38/100\n",
      "3130/3130 - 0s - loss: 0.6810 - accuracy: 0.5633 - val_loss: 0.6846 - val_accuracy: 0.5568\n",
      "Epoch 39/100\n",
      "3130/3130 - 0s - loss: 0.6811 - accuracy: 0.5620 - val_loss: 0.6848 - val_accuracy: 0.5568\n",
      "Epoch 40/100\n",
      "3130/3130 - 0s - loss: 0.6810 - accuracy: 0.5633 - val_loss: 0.6844 - val_accuracy: 0.5670\n",
      "Epoch 41/100\n",
      "3130/3130 - 0s - loss: 0.6810 - accuracy: 0.5684 - val_loss: 0.6845 - val_accuracy: 0.5670\n",
      "Epoch 42/100\n",
      "3130/3130 - 0s - loss: 0.6810 - accuracy: 0.5591 - val_loss: 0.6845 - val_accuracy: 0.5670\n",
      "Epoch 43/100\n",
      "3130/3130 - 0s - loss: 0.6810 - accuracy: 0.5617 - val_loss: 0.6847 - val_accuracy: 0.5568\n",
      "Epoch 44/100\n",
      "3130/3130 - 0s - loss: 0.6810 - accuracy: 0.5633 - val_loss: 0.6846 - val_accuracy: 0.5568\n",
      "Epoch 45/100\n",
      "3130/3130 - 0s - loss: 0.6811 - accuracy: 0.5626 - val_loss: 0.6845 - val_accuracy: 0.5670\n",
      "Epoch 46/100\n",
      "3130/3130 - 0s - loss: 0.6810 - accuracy: 0.5581 - val_loss: 0.6848 - val_accuracy: 0.5568\n",
      "Epoch 47/100\n",
      "3130/3130 - 0s - loss: 0.6810 - accuracy: 0.5658 - val_loss: 0.6846 - val_accuracy: 0.5568\n",
      "Epoch 48/100\n",
      "3130/3130 - 0s - loss: 0.6810 - accuracy: 0.5626 - val_loss: 0.6845 - val_accuracy: 0.5670\n",
      "Epoch 49/100\n",
      "3130/3130 - 0s - loss: 0.6811 - accuracy: 0.5649 - val_loss: 0.6844 - val_accuracy: 0.5670\n",
      "Epoch 50/100\n",
      "3130/3130 - 0s - loss: 0.6811 - accuracy: 0.5594 - val_loss: 0.6845 - val_accuracy: 0.5670\n",
      "Epoch 51/100\n",
      "3130/3130 - 0s - loss: 0.6810 - accuracy: 0.5594 - val_loss: 0.6845 - val_accuracy: 0.5670\n",
      "Epoch 52/100\n",
      "3130/3130 - 0s - loss: 0.6810 - accuracy: 0.5597 - val_loss: 0.6846 - val_accuracy: 0.5670\n",
      "Epoch 53/100\n",
      "3130/3130 - 0s - loss: 0.6811 - accuracy: 0.5588 - val_loss: 0.6846 - val_accuracy: 0.5670\n",
      "Epoch 54/100\n",
      "3130/3130 - 0s - loss: 0.6810 - accuracy: 0.5617 - val_loss: 0.6845 - val_accuracy: 0.5670\n",
      "Epoch 55/100\n",
      "3130/3130 - 0s - loss: 0.6811 - accuracy: 0.5597 - val_loss: 0.6845 - val_accuracy: 0.5670\n",
      "Epoch 56/100\n",
      "3130/3130 - 0s - loss: 0.6811 - accuracy: 0.5543 - val_loss: 0.6845 - val_accuracy: 0.5670\n",
      "Epoch 57/100\n",
      "3130/3130 - 0s - loss: 0.6810 - accuracy: 0.5604 - val_loss: 0.6845 - val_accuracy: 0.5670\n",
      "Epoch 58/100\n",
      "3130/3130 - 0s - loss: 0.6810 - accuracy: 0.5610 - val_loss: 0.6846 - val_accuracy: 0.5670\n",
      "Epoch 59/100\n",
      "3130/3130 - 0s - loss: 0.6810 - accuracy: 0.5626 - val_loss: 0.6845 - val_accuracy: 0.5670\n",
      "Epoch 60/100\n",
      "3130/3130 - 0s - loss: 0.6810 - accuracy: 0.5604 - val_loss: 0.6845 - val_accuracy: 0.5670\n",
      "Epoch 61/100\n",
      "3130/3130 - 0s - loss: 0.6810 - accuracy: 0.5594 - val_loss: 0.6846 - val_accuracy: 0.5670\n",
      "Epoch 62/100\n",
      "3130/3130 - 0s - loss: 0.6811 - accuracy: 0.5601 - val_loss: 0.6846 - val_accuracy: 0.5670\n",
      "Epoch 63/100\n",
      "3130/3130 - 0s - loss: 0.6810 - accuracy: 0.5581 - val_loss: 0.6846 - val_accuracy: 0.5568\n",
      "Epoch 64/100\n",
      "3130/3130 - 0s - loss: 0.6810 - accuracy: 0.5613 - val_loss: 0.6846 - val_accuracy: 0.5568\n",
      "Epoch 65/100\n",
      "3130/3130 - 0s - loss: 0.6810 - accuracy: 0.5620 - val_loss: 0.6844 - val_accuracy: 0.5670\n",
      "Epoch 66/100\n",
      "3130/3130 - 0s - loss: 0.6810 - accuracy: 0.5604 - val_loss: 0.6845 - val_accuracy: 0.5670\n",
      "Epoch 67/100\n",
      "3130/3130 - 0s - loss: 0.6810 - accuracy: 0.5613 - val_loss: 0.6846 - val_accuracy: 0.5568\n",
      "Epoch 68/100\n",
      "3130/3130 - 0s - loss: 0.6810 - accuracy: 0.5575 - val_loss: 0.6846 - val_accuracy: 0.5670\n",
      "Epoch 69/100\n",
      "3130/3130 - 0s - loss: 0.6810 - accuracy: 0.5613 - val_loss: 0.6846 - val_accuracy: 0.5670\n",
      "Epoch 70/100\n",
      "3130/3130 - 0s - loss: 0.6810 - accuracy: 0.5610 - val_loss: 0.6845 - val_accuracy: 0.5670\n",
      "Epoch 71/100\n",
      "3130/3130 - 0s - loss: 0.6810 - accuracy: 0.5588 - val_loss: 0.6845 - val_accuracy: 0.5670\n",
      "Epoch 72/100\n",
      "3130/3130 - 0s - loss: 0.6811 - accuracy: 0.5597 - val_loss: 0.6845 - val_accuracy: 0.5670\n",
      "Epoch 73/100\n",
      "3130/3130 - 0s - loss: 0.6811 - accuracy: 0.5591 - val_loss: 0.6847 - val_accuracy: 0.5568\n",
      "Epoch 74/100\n",
      "3130/3130 - 0s - loss: 0.6810 - accuracy: 0.5591 - val_loss: 0.6845 - val_accuracy: 0.5670\n",
      "Epoch 75/100\n",
      "3130/3130 - 0s - loss: 0.6810 - accuracy: 0.5594 - val_loss: 0.6846 - val_accuracy: 0.5568\n",
      "Epoch 76/100\n",
      "3130/3130 - 0s - loss: 0.6809 - accuracy: 0.5597 - val_loss: 0.6845 - val_accuracy: 0.5670\n",
      "Epoch 77/100\n",
      "3130/3130 - 0s - loss: 0.6810 - accuracy: 0.5617 - val_loss: 0.6845 - val_accuracy: 0.5670\n",
      "Epoch 78/100\n",
      "3130/3130 - 0s - loss: 0.6810 - accuracy: 0.5610 - val_loss: 0.6846 - val_accuracy: 0.5670\n",
      "Epoch 79/100\n",
      "3130/3130 - 0s - loss: 0.6811 - accuracy: 0.5626 - val_loss: 0.6846 - val_accuracy: 0.5670\n",
      "Epoch 80/100\n",
      "3130/3130 - 0s - loss: 0.6810 - accuracy: 0.5649 - val_loss: 0.6846 - val_accuracy: 0.5670\n",
      "Epoch 81/100\n",
      "3130/3130 - 0s - loss: 0.6810 - accuracy: 0.5591 - val_loss: 0.6844 - val_accuracy: 0.5670\n",
      "Epoch 82/100\n",
      "3130/3130 - 0s - loss: 0.6810 - accuracy: 0.5649 - val_loss: 0.6846 - val_accuracy: 0.5670\n",
      "Epoch 83/100\n",
      "3130/3130 - 0s - loss: 0.6810 - accuracy: 0.5629 - val_loss: 0.6845 - val_accuracy: 0.5670\n",
      "Epoch 84/100\n",
      "3130/3130 - 0s - loss: 0.6811 - accuracy: 0.5629 - val_loss: 0.6846 - val_accuracy: 0.5670\n",
      "Epoch 85/100\n",
      "3130/3130 - 0s - loss: 0.6810 - accuracy: 0.5623 - val_loss: 0.6847 - val_accuracy: 0.5568\n",
      "Epoch 86/100\n",
      "3130/3130 - 0s - loss: 0.6810 - accuracy: 0.5591 - val_loss: 0.6846 - val_accuracy: 0.5670\n",
      "Epoch 87/100\n",
      "3130/3130 - 0s - loss: 0.6811 - accuracy: 0.5613 - val_loss: 0.6846 - val_accuracy: 0.5670\n",
      "Epoch 88/100\n",
      "3130/3130 - 0s - loss: 0.6810 - accuracy: 0.5626 - val_loss: 0.6845 - val_accuracy: 0.5670\n",
      "Epoch 89/100\n",
      "3130/3130 - 0s - loss: 0.6810 - accuracy: 0.5636 - val_loss: 0.6845 - val_accuracy: 0.5670\n",
      "Epoch 90/100\n",
      "3130/3130 - 0s - loss: 0.6810 - accuracy: 0.5629 - val_loss: 0.6846 - val_accuracy: 0.5568\n",
      "Epoch 91/100\n",
      "3130/3130 - 0s - loss: 0.6810 - accuracy: 0.5594 - val_loss: 0.6846 - val_accuracy: 0.5670\n",
      "Epoch 92/100\n",
      "3130/3130 - 0s - loss: 0.6810 - accuracy: 0.5565 - val_loss: 0.6845 - val_accuracy: 0.5670\n",
      "Epoch 93/100\n",
      "3130/3130 - 0s - loss: 0.6811 - accuracy: 0.5597 - val_loss: 0.6847 - val_accuracy: 0.5568\n",
      "Epoch 94/100\n",
      "3130/3130 - 0s - loss: 0.6810 - accuracy: 0.5629 - val_loss: 0.6846 - val_accuracy: 0.5568\n",
      "Epoch 95/100\n",
      "3130/3130 - 0s - loss: 0.6810 - accuracy: 0.5629 - val_loss: 0.6845 - val_accuracy: 0.5670\n",
      "Epoch 96/100\n",
      "3130/3130 - 0s - loss: 0.6811 - accuracy: 0.5578 - val_loss: 0.6845 - val_accuracy: 0.5670\n",
      "Epoch 97/100\n",
      "3130/3130 - 0s - loss: 0.6811 - accuracy: 0.5655 - val_loss: 0.6845 - val_accuracy: 0.5670\n",
      "Epoch 98/100\n",
      "3130/3130 - 0s - loss: 0.6810 - accuracy: 0.5623 - val_loss: 0.6846 - val_accuracy: 0.5670\n",
      "Epoch 99/100\n",
      "3130/3130 - 0s - loss: 0.6811 - accuracy: 0.5594 - val_loss: 0.6845 - val_accuracy: 0.5670\n",
      "Epoch 100/100\n",
      "3130/3130 - 0s - loss: 0.6810 - accuracy: 0.5594 - val_loss: 0.6847 - val_accuracy: 0.5568\n"
     ]
    },
    {
     "data": {
      "text/plain": [
       "<tensorflow.python.keras.callbacks.History at 0x7f178c30d208>"
      ]
     },
     "execution_count": 19,
     "metadata": {},
     "output_type": "execute_result"
    }
   ],
   "source": [
    "def create_model():\n",
    "\n",
    "    model = keras.Sequential()\n",
    "    model.add(keras.layers.Dense(2, activation=\"softmax\"))\n",
    "\n",
    "    opt = tf.keras.optimizers.Adam()\n",
    "\n",
    "    model.compile(loss='sparse_categorical_crossentropy',\n",
    "                  optimizer=opt,\n",
    "                  metrics=['accuracy'])\n",
    "\n",
    "    return model\n",
    "\n",
    "# Don't turn x into an nparray yet, \n",
    "# so we can track the non scaled values during the shuffle to keep comparisons intuitive.\n",
    "x = non_zero_games['rating_difference']\n",
    "non_zero_games['scaled_x'] = scale(x)\n",
    "y = np.array(non_zero_games['t1_win'])\n",
    "\n",
    "train_x, test_x, train_y, test_y = train_test_split(non_zero_games[['rating_difference', \n",
    "                                                                    'scaled_x']], \n",
    "                                                    y, \n",
    "                                                    test_size=0.2, \n",
    "                                                    random_state=1, \n",
    "                                                    shuffle=True\n",
    "                                                   )\n",
    "\n",
    "model = create_model()\n",
    "model.fit(np.array(train_x['scaled_x']), \n",
    "          train_y, \n",
    "          validation_data=(np.array(test_x['scaled_x']), \n",
    "          test_y), \n",
    "          epochs=100, \n",
    "          verbose=2\n",
    "         )"
   ]
  },
  {
   "cell_type": "markdown",
   "metadata": {},
   "source": [
    "Since the model is only one neuron, the model should be creating a simple linear relationship between rating_difference and t1_win. We can see this is the case by looking at the graph of t1_confidence."
   ]
  },
  {
   "cell_type": "code",
   "execution_count": 20,
   "metadata": {},
   "outputs": [],
   "source": [
    "# This function matches the nparrays we fed into our model with their dataframe counterparts \n",
    "def prob_details(x, y):    \n",
    "    probabilities = model.predict(np.array(x['scaled_x']))\n",
    "    with_ratings = pd.concat([pd.DataFrame(probabilities, \n",
    "                                           columns=['t2_confidence', 't1_confidence']),\n",
    "                              x['rating_difference'].reset_index(drop=True),\n",
    "                              pd.DataFrame(y, columns=['t1_win'])], \n",
    "                             axis=1\n",
    "                            )\n",
    "    return with_ratings"
   ]
  },
  {
   "cell_type": "code",
   "execution_count": 21,
   "metadata": {},
   "outputs": [
    {
     "data": {
      "text/plain": [
       "[]"
      ]
     },
     "execution_count": 21,
     "metadata": {},
     "output_type": "execute_result"
    },
    {
     "data": {
      "image/png": "[encoded data removed]",
      "text/plain": [
       "<Figure size 504x504 with 1 Axes>"
      ]
     },
     "metadata": {
      "needs_background": "light"
     },
     "output_type": "display_data"
    }
   ],
   "source": [
    "test_details = prob_details(test_x, test_y)\n",
    "\n",
    "fig, ax1 = plt.subplots(figsize=(7, 7))\n",
    "ax1.set_title('Confidence vs Rating Difference', {'fontsize': 16})\n",
    "ax1.bar(test_details['rating_difference'], test_details['t1_confidence'])\n",
    "ax1.set_xlabel('Rating Difference', {'fontsize': 12})\n",
    "ax1.set_ylabel('Confidence', {'fontsize': 12})\n",
    "\n",
    "plt.plot()"
   ]
  },
  {
   "cell_type": "markdown",
   "metadata": {},
   "source": [
    "This gives us a pretty intuitive understanding of the linear relationship the model comes up with between confidence and the rating difference. \n",
    "\n",
    "Now let's see how the model's confidence compares to the actual win rates of the data."
   ]
  },
  {
   "cell_type": "code",
   "execution_count": 22,
   "metadata": {},
   "outputs": [],
   "source": [
    "def plot_confidence_win_rate(games):\n",
    "    plt.figure(figsize=(7, 7))\n",
    "    \n",
    "    bin_means, bin_edges, binnumber = stats.binned_statistic(games['rating_difference'], \n",
    "                                                             games['t1_confidence'], \n",
    "                                                             'mean', \n",
    "                                                             bins=10)\n",
    "    plt.hlines(bin_means, \n",
    "               bin_edges[:-1], \n",
    "               bin_edges[1:], \n",
    "               colors='r', \n",
    "               alpha=0.8, \n",
    "               label='Average Confidence')\n",
    "    \n",
    "    bin_means, bin_edges, binnumber = stats.binned_statistic(games['rating_difference'], \n",
    "                                                             games['t1_win'], \n",
    "                                                             'mean', \n",
    "                                                             bins=10)\n",
    "    plt.hlines(bin_means, \n",
    "               bin_edges[:-1], \n",
    "               bin_edges[1:], \n",
    "               colors='b', \n",
    "               alpha=0.8, \n",
    "               label='Average Win Rate')\n",
    "    \n",
    "    plt.legend(loc='upper left')\n",
    "    plt.title('Win Rates and Model Confidence', {'fontsize':16})\n",
    "    plt.ylabel('Confidence / Win Rate', {'fontsize':12})\n",
    "    plt.xlabel('Rating Difference', {'fontsize':12})\n",
    "    plt.show()"
   ]
  },
  {
   "cell_type": "code",
   "execution_count": 23,
   "metadata": {},
   "outputs": [
    {
     "data": {
      "image/png": "[encoded data removed]",
      "text/plain": [
       "<Figure size 504x504 with 1 Axes>"
      ]
     },
     "metadata": {
      "needs_background": "light"
     },
     "output_type": "display_data"
    }
   ],
   "source": [
    "plot_confidence_win_rate(test_details)"
   ]
  },
  {
   "cell_type": "markdown",
   "metadata": {},
   "source": [
    "There does seem to be at least a loose relationship between the model's confidence rates and the actual win rates of those games.\n",
    "\n",
    "The relationship may make more sense if we compare predictions on the training data to the actual win rate. Normally this wouldn't be advised, since overfitting can make any model seem smarter than it is. However, the accuracy and loss between the training set and the test set are reasonably similar. Also, since there is only one neuron, the model doesn't really have the complexity to overfit on the training data. This all suggests that overfitting is relatively insubstantial, and we can look at our performance on the training set with a pinch of salt."
   ]
  },
  {
   "cell_type": "code",
   "execution_count": 24,
   "metadata": {},
   "outputs": [
    {
     "data": {
      "image/png": "[encoded data removed]",
      "text/plain": [
       "<Figure size 504x504 with 1 Axes>"
      ]
     },
     "metadata": {
      "needs_background": "light"
     },
     "output_type": "display_data"
    }
   ],
   "source": [
    "train_details = prob_details(train_x, train_y)\n",
    "plot_confidence_win_rate(train_details)"
   ]
  },
  {
   "cell_type": "markdown",
   "metadata": {},
   "source": [
    "Looks pretty reasonable.\n",
    "\n",
    "It should however be noted that the edge cases have fewer games in their respective sample sizes. We saw earlier how the linear relationship between the rating difference and the win rate deteriorated as the absolute rating difference increased. So we should put more stock into the middle section of these graphs, because the majority of the data exists in the portion between -100 and 100."
   ]
  },
  {
   "cell_type": "markdown",
   "metadata": {},
   "source": [
    "# Conclusion\n",
    "\n",
    "This was meant to be a small introduction to the process and potential of applying machine learning to new applications. It is by no means enough to start bookmaking for CS:GO games on it's own. But by adding more proven features, you could build a model robust enough to profitably make books with a large enough vig.\n",
    "\n",
    "Other interesting ideas to explore:\n",
    "\n",
    "* Scraping more intricate team statistics and adding these to the model. \n",
    "* Adding historical betting odds to the model (This would be enormously helpful if you could find a good dataset).\n",
    "* Cutting out extreme rating differences from consideration.\n",
    "\n",
    "I'll keep working on this notebook for the next little while. I would like to upgrade most of the graphs and explore more ways of presenting relationships in the data. I'm also still curious about the effectiveness of removing extreme rating differences from consideration. \n",
    "\n",
    "Thanks for taking a look at my notebook!"
   ]
  }
 ],
 "metadata": {
  "kernelspec": {
   "display_name": "Python 3",
   "language": "python",
   "name": "python3"
  },
  "language_info": {
   "codemirror_mode": {
    "name": "ipython",
    "version": 3
   },
   "file_extension": ".py",
   "mimetype": "text/x-python",
   "name": "python",
   "nbconvert_exporter": "python",
   "pygments_lexer": "ipython3",
   "version": "3.6.6"
  }
 },
 "nbformat": 4,
 "nbformat_minor": 4
}
